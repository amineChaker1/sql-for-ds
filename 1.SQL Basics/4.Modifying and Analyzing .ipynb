{
 "cells": [
  {
   "cell_type": "markdown",
   "id": "2505ae09-805c-410f-a3d6-f69b4a60148a",
   "metadata": {},
   "source": [
    "### SQL Analyzing and Modifying Data"
   ]
  },
  {
   "cell_type": "markdown",
   "id": "8dff40b9-3a6e-4dd1-beb3-de0f6c338e6b",
   "metadata": {},
   "source": []
  },
  {
   "cell_type": "markdown",
   "id": "365adc9c-6dea-4b0a-9c76-193fb7642c00",
   "metadata": {},
   "source": []
  },
  {
   "cell_type": "markdown",
   "id": "a86e5d77-d645-496a-b403-752bf8f794e0",
   "metadata": {},
   "source": []
  },
  {
   "cell_type": "markdown",
   "id": "27bd454b-eacd-48e1-a563-b7ffae84064a",
   "metadata": {},
   "source": []
  },
  {
   "cell_type": "markdown",
   "id": "b0aea7e6-984d-4ebc-93ce-153b909ae3fb",
   "metadata": {},
   "source": []
  }
 ],
 "metadata": {
  "kernelspec": {
   "display_name": "",
   "name": ""
  },
  "language_info": {
   "name": ""
  }
 },
 "nbformat": 4,
 "nbformat_minor": 5
}
